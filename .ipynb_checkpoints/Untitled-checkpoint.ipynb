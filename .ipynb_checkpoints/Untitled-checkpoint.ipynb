{
 "cells": [
  {
   "cell_type": "markdown",
   "id": "baa353c1-14d1-4e69-86dc-b3a1b35dff2b",
   "metadata": {},
   "source": [
    "# 📦 Imports and Setup"
   ]
  },
  {
   "cell_type": "code",
   "execution_count": 3,
   "id": "53418d3a-750f-402f-93a9-fcd8359329cd",
   "metadata": {
    "editable": true,
    "slideshow": {
     "slide_type": ""
    },
    "tags": []
   },
   "outputs": [],
   "source": [
    "import os\n",
    "import pandas as pd\n",
    "import ipywidgets as widgets\n",
    "from IPython.display import display, clear_output"
   ]
  },
  {
   "cell_type": "markdown",
   "id": "f4dbf7c1-0ede-4860-91bb-697136651cd1",
   "metadata": {},
   "source": [
    "# Imports and Setup"
   ]
  },
  {
   "cell_type": "markdown",
   "id": "fceb7797-9276-4bba-b5a5-53e44e1746e4",
   "metadata": {},
   "source": [
    "# 📁 Set Library Directory and List CSVs"
   ]
  },
  {
   "cell_type": "code",
   "execution_count": 4,
   "id": "f0e95d21-7bc2-4c07-9f06-c0e3b457dc0f",
   "metadata": {},
   "outputs": [],
   "source": [
    "# Define the folder containing section CSVs\n",
    "library_folder = \"SteelLibrary/Members/Main\"\n",
    "# List all relevant CSV files\n",
    "csv_files = [f for f in os.listdir(library_folder) if f.endswith(\".csv\")]\n",
    "section_types = sorted(set(f[:3] for f in csv_files))  # e.g., \"PFC\", \"UB\", \"RHS\""
   ]
  },
  {
   "cell_type": "code",
   "execution_count": null,
   "id": "5a767211-7c8e-4b8a-8b89-b9821eb830ef",
   "metadata": {},
   "outputs": [],
   "source": []
  }
 ],
 "metadata": {
  "kernelspec": {
   "display_name": "Python 3 (ipykernel)",
   "language": "python",
   "name": "python3"
  },
  "language_info": {
   "codemirror_mode": {
    "name": "ipython",
    "version": 3
   },
   "file_extension": ".py",
   "mimetype": "text/x-python",
   "name": "python",
   "nbconvert_exporter": "python",
   "pygments_lexer": "ipython3",
   "version": "3.12.7"
  },
  "panel-cell-order": [
   "b9557789-17fe-4be4-870e-429ef72986b2"
  ]
 },
 "nbformat": 4,
 "nbformat_minor": 5
}
