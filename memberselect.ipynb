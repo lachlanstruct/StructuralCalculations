{
 "cells": [
  {
   "cell_type": "markdown",
   "id": "baa353c1-14d1-4e69-86dc-b3a1b35dff2b",
   "metadata": {},
   "source": [
    "### Imports and Setup"
   ]
  },
  {
   "cell_type": "code",
   "execution_count": 21,
   "id": "53418d3a-750f-402f-93a9-fcd8359329cd",
   "metadata": {
    "editable": true,
    "slideshow": {
     "slide_type": ""
    },
    "tags": []
   },
   "outputs": [],
   "source": [
    "import os\n",
    "import pandas as pd\n",
    "import ipywidgets as widgets\n",
    "from IPython.display import display, clear_output"
   ]
  },
  {
   "cell_type": "markdown",
   "id": "fceb7797-9276-4bba-b5a5-53e44e1746e4",
   "metadata": {},
   "source": [
    "### Set Library Directory and List CSVs"
   ]
  },
  {
   "cell_type": "code",
   "execution_count": 22,
   "id": "f0e95d21-7bc2-4c07-9f06-c0e3b457dc0f",
   "metadata": {},
   "outputs": [],
   "source": [
    "# Define the folder containing section CSVs\n",
    "library_folder = \"SteelLibrary/Members/Main\"\n",
    "# List all relevant CSV files\n",
    "csv_files = [f for f in os.listdir(library_folder) if f.endswith(\".csv\")]\n",
    "section_types = sorted(set(f[:3] for f in csv_files))  # e.g., \"PFC\", \"UB\", \"RHS\""
   ]
  },
  {
   "cell_type": "markdown",
   "id": "5a767211-7c8e-4b8a-8b89-b9821eb830ef",
   "metadata": {},
   "source": [
    "### 🏗️ Section Library Setup"
   ]
  },
  {
   "cell_type": "code",
   "execution_count": null,
   "id": "667ef970",
   "metadata": {},
   "outputs": [
    {
     "data": {
      "application/vnd.jupyter.widget-view+json": {
       "model_id": "792f21ce819b439ab6b489944d2e0c0d",
       "version_major": 2,
       "version_minor": 0
      },
      "text/plain": [
       "VBox(children=(Dropdown(description='Section Type:', layout=Layout(width='250px'), options=('CHS', 'PFC', 'RHS…"
      ]
     },
     "metadata": {},
     "output_type": "display_data"
    }
   ],
   "source": [
    "import os\n",
    "import pandas as pd\n",
    "import ipywidgets as widgets\n",
    "from IPython.display import display, clear_output\n",
    "\n",
    "# --- Setup ---\n",
    "library_folder = \"SteelLibrary/Members/Main\"\n",
    "csv_files = [f for f in os.listdir(library_folder) if f.endswith(\".csv\")]\n",
    "section_types = sorted(set(f[:3] for f in csv_files))\n",
    "\n",
    "section_type_dropdown = widgets.Dropdown(\n",
    "    options=section_types, description=\"Section Type:\", layout=widgets.Layout(width=\"250px\")\n",
    ")\n",
    "series_dropdown = widgets.Dropdown(options=[], description=\"Series:\", layout=widgets.Layout(width=\"250px\"))\n",
    "member_dropdown = widgets.Dropdown(options=[], description=\"Member:\", layout=widgets.Layout(width=\"350px\"))\n",
    "material_output = widgets.Output()\n",
    "geometry_output = widgets.Output()\n",
    "current_df = pd.DataFrame()\n",
    "\n",
    "section_props = {}\n",
    "\n",
    "# --- Dropdown Behavior ---\n",
    "def get_grade_from_series(series_name):\n",
    "    try:\n",
    "        return int(''.join(filter(str.isdigit, series_name))) * 10\n",
    "    except:\n",
    "        return \"Unknown\"\n",
    "\n",
    "def update_series(change):\n",
    "    section_type = change['new']\n",
    "    options = sorted([f.replace(\".csv\", \"\") for f in csv_files if f.startswith(section_type)])\n",
    "    series_dropdown.options = options\n",
    "    member_dropdown.options = []\n",
    "    material_output.clear_output()\n",
    "    geometry_output.clear_output()\n",
    "\n",
    "def update_member_list(change):\n",
    "    global current_df\n",
    "    full_path = os.path.join(library_folder, f\"{change['new']}.csv\")\n",
    "    try:\n",
    "        df = pd.read_csv(full_path, skiprows=[1])\n",
    "        current_df = df\n",
    "        member_dropdown.options = df[\"Description\"].dropna().tolist()\n",
    "    except Exception as e:\n",
    "        current_df = pd.DataFrame()\n",
    "        member_dropdown.options = []\n",
    "        with material_output:\n",
    "            print(f\"❌ Error reading file: {e}\")\n",
    "\n",
    "def display_properties(change):\n",
    "    material_output.clear_output()\n",
    "    geometry_output.clear_output()\n",
    "    member = change['new']\n",
    "\n",
    "    if current_df.empty or member not in current_df[\"Description\"].values:\n",
    "        return\n",
    "\n",
    "    row = current_df[current_df[\"Description\"] == member].iloc[0]\n",
    "    series = series_dropdown.value\n",
    "    grade = get_grade_from_series(series)\n",
    "    E = 200_000\n",
    "\n",
    "    # --- Define hardcoded scaling factors ---\n",
    "    scaling = {\n",
    "        \"Ix\": 1e6,     # mm⁴\n",
    "        \"Zx\": 1e3,     # mm³\n",
    "        \"Sx\": 1e3,     # mm³\n",
    "        \"Iy\": 1e6,     # mm⁴\n",
    "        \"Zy\": 1e3,     # mm³\n",
    "        \"Sy\": 1e3,     # mm³\n",
    "        \"J\": 1e3,      # mm⁴\n",
    "        \"Iw\": 1e9,     # mm⁶\n",
    "        \"Zex\": 1e3,    # mm³\n",
    "        \"Zey\": 1e3     # mm³\n",
    "    }\n",
    "\n",
    "    section_props['E'] = E * 1e6  # Store E (MPa → Pa)\n",
    "\n",
    "    with material_output:\n",
    "        print(f\"✅ Selected: {member}\")\n",
    "        print(f\"🟦 Grade: {grade}\")\n",
    "        print(f\"📐 E: {E} MPa\")\n",
    "\n",
    "    # Only display selected geometric properties\n",
    "    display_geom_props = [\"d\", \"bf\", \"tf\", \"tw\", \"Ix\", \"Zx\", \"Sx\", \"rx\"]\n",
    "    filtered = row[display_geom_props].to_frame(name='Value')\n",
    "    with geometry_output:\n",
    "        display(filtered)\n",
    "\n",
    "\n",
    "    # --- Loop over all columns and define scaled or raw globals ---\n",
    "    for col in row.index:\n",
    "        raw_val = row[col]\n",
    "        if pd.notna(raw_val) and (\n",
    "            isinstance(raw_val, (int, float)) or \n",
    "            (isinstance(raw_val, str) and raw_val.replace('.', '', 1).isdigit())\n",
    "        ):\n",
    "            try:\n",
    "                val = float(raw_val) * scaling.get(col, 1)\n",
    "                globals()[col] = val\n",
    "                section_props[col] = val\n",
    "                print(f\"📌 {col} = {val}\")\n",
    "            except Exception as e:\n",
    "                print(f\"⚠️ Could not convert: {col} = {raw_val} ({e})\")\n",
    "        else:\n",
    "            print(f\"❌ Skipped: {col} (non-numeric or missing)\")\n",
    "\n",
    "\n",
    "\n",
    "# --- Event Hooks ---\n",
    "section_type_dropdown.observe(update_series, names=\"value\")\n",
    "series_dropdown.observe(update_member_list, names=\"value\")\n",
    "member_dropdown.observe(display_properties, names=\"value\")\n",
    "\n",
    "# --- Display UI ---\n",
    "section_ui = widgets.VBox([\n",
    "    section_type_dropdown,\n",
    "    series_dropdown,\n",
    "    member_dropdown,\n",
    "    widgets.HTML(\"<b>Material Properties</b>\"),\n",
    "    material_output,\n",
    "    widgets.HTML(\"<b>Geometric Properties</b>\"),\n",
    "    geometry_output\n",
    "])\n",
    "display(section_ui)\n",
    "update_series({'new': section_type_dropdown.value})\n"
   ]
  },
  {
   "cell_type": "code",
   "execution_count": 25,
   "id": "1cfdbeb2",
   "metadata": {},
   "outputs": [
    {
     "data": {
      "text/plain": [
       "1230000.0"
      ]
     },
     "execution_count": 25,
     "metadata": {},
     "output_type": "execute_result"
    }
   ],
   "source": [
    "Ix"
   ]
  },
  {
   "cell_type": "markdown",
   "id": "f4dbf7c1-0ede-4860-91bb-697136651cd1",
   "metadata": {},
   "source": [
    "# Imports and Setup"
   ]
  }
 ],
 "metadata": {
  "kernelspec": {
   "display_name": "Python 3",
   "language": "python",
   "name": "python3"
  },
  "language_info": {
   "codemirror_mode": {
    "name": "ipython",
    "version": 3
   },
   "file_extension": ".py",
   "mimetype": "text/x-python",
   "name": "python",
   "nbconvert_exporter": "python",
   "pygments_lexer": "ipython3",
   "version": "3.10.6"
  },
  "panel-cell-order": [
   "b9557789-17fe-4be4-870e-429ef72986b2"
  ]
 },
 "nbformat": 4,
 "nbformat_minor": 5
}
