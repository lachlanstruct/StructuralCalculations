{
 "cells": [
  {
   "cell_type": "code",
   "execution_count": 2,
   "metadata": {},
   "outputs": [],
   "source": [
    "# @title 📦 Imports and Setup\n",
    "import os\n",
    "import pandas as pd\n",
    "import ipywidgets as widgets\n",
    "from IPython.display import display, clear_output\n",
    "\n",
    "# @title 📁 Set Library Directory and List CSVs\n",
    "# Define the folder containing section CSVs\n",
    "library_folder = \"SteelLibrary/Members/Main\"\n",
    "\n",
    "# List all relevant CSV files\n",
    "csv_files = [f for f in os.listdir(library_folder) if f.endswith(\".csv\")]\n",
    "section_types = sorted(set(f[:3] for f in csv_files))  # e.g., \"PFC\", \"UB\", \"RHS\"\n"
   ]
  },
  {
   "cell_type": "markdown",
   "metadata": {},
   "source": [
    "## Define Dropdown Widgets"
   ]
  },
  {
   "cell_type": "code",
   "execution_count": 3,
   "metadata": {},
   "outputs": [
    {
     "data": {
      "application/vnd.jupyter.widget-view+json": {
       "model_id": "b7a913cce11d409c8defa8aeb2f9568c",
       "version_major": 2,
       "version_minor": 0
      },
      "text/plain": [
       "VBox(children=(Dropdown(description='Section Type:', layout=Layout(width='300px'), options=('CHS', 'PFC', 'RHS…"
      ]
     },
     "metadata": {},
     "output_type": "display_data"
    }
   ],
   "source": [
    "\n",
    "# @title 🔽 Define Dropdown Widgets\n",
    "section_type_dropdown = widgets.Dropdown(\n",
    "    options=section_types,\n",
    "    description=\"Section Type:\",\n",
    "    layout=widgets.Layout(width=\"300px\")\n",
    ")\n",
    "\n",
    "series_dropdown = widgets.Dropdown(\n",
    "    options=[],\n",
    "    description=\"Series:\",\n",
    "    layout=widgets.Layout(width=\"300px\")\n",
    ")\n",
    "\n",
    "member_dropdown = widgets.Dropdown(\n",
    "    options=[],\n",
    "    description=\"Member:\",\n",
    "    layout=widgets.Layout(width=\"400px\")\n",
    ")\n",
    "\n",
    "output = widgets.Output()\n",
    "\n",
    "# @title 🧠 Global Data and Event Handlers\n",
    "current_df = pd.DataFrame()\n",
    "\n",
    "# Update Series dropdown\n",
    "def update_series(change):\n",
    "    section_type = change['new']\n",
    "    series = sorted([f.replace(\".csv\", \"\") for f in csv_files if f.startswith(section_type)])\n",
    "    series_dropdown.options = series\n",
    "    member_dropdown.options = []\n",
    "    output.clear_output()\n",
    "\n",
    "# Update Member dropdown\n",
    "def update_member_list(change):\n",
    "    global current_df\n",
    "    series_file = f\"{change['new']}.csv\"\n",
    "    full_path = os.path.join(library_folder, series_file)\n",
    "    try:\n",
    "        df = pd.read_csv(full_path, skiprows=[1])  # Skip unit row\n",
    "        current_df = df\n",
    "        members = df[\"Description\"].dropna().tolist()\n",
    "        member_dropdown.options = members\n",
    "    except Exception as e:\n",
    "        current_df = pd.DataFrame()\n",
    "        member_dropdown.options = []\n",
    "        with output:\n",
    "            print(f\"❌ Error reading {series_file}: {e}\")\n",
    "\n",
    "# Display selected member properties\n",
    "def display_properties(change):\n",
    "    output.clear_output()\n",
    "    member = change['new']\n",
    "    if current_df.empty or member not in current_df[\"Description\"].values:\n",
    "        return\n",
    "    row = current_df[current_df[\"Description\"] == member].iloc[0]\n",
    "\n",
    "    # Extract grade from description, fallback to Unknown\n",
    "    grade = member.split(\"(GR\")[-1].replace(\")\", \"\") if \"(GR\" in member else \"Unknown\"\n",
    "    mat_type = row.get(\"Type\", \"Unknown\")\n",
    "\n",
    "    # Basic grade-to-modulus map\n",
    "    E_lookup = {\"350\": 200000, \"300\": 200000, \"250\": 200000}\n",
    "    E = E_lookup.get(grade, \"Unknown\")\n",
    "\n",
    "    Ix = row.get(\"Ix\", \"N/A\")\n",
    "\n",
    "    with output:\n",
    "        print(f\"✅ Selected: {member}\\n\")\n",
    "        print(f\"🟦 Grade: {grade}\")\n",
    "        print(f\"🔩 Material Type: {mat_type}\")\n",
    "        print(f\"📐 Young's Modulus (E): {E} MPa\")\n",
    "        print(f\"📘 Moment of Inertia (Ix): {Ix} ×10⁶ mm⁴\")\n",
    "\n",
    "# @title 🔗 Connect Events and Display UI\n",
    "section_type_dropdown.observe(update_series, names=\"value\")\n",
    "series_dropdown.observe(update_member_list, names=\"value\")\n",
    "member_dropdown.observe(display_properties, names=\"value\")\n",
    "\n",
    "ui = widgets.VBox([\n",
    "    section_type_dropdown,\n",
    "    series_dropdown,\n",
    "    member_dropdown,\n",
    "    output\n",
    "])\n",
    "display(ui)\n",
    "\n",
    "# Trigger first update\n",
    "update_series({'new': section_type_dropdown.value})\n"
   ]
  }
 ],
 "metadata": {
  "kernelspec": {
   "display_name": "Python 3",
   "language": "python",
   "name": "python3"
  },
  "language_info": {
   "codemirror_mode": {
    "name": "ipython",
    "version": 3
   },
   "file_extension": ".py",
   "mimetype": "text/x-python",
   "name": "python",
   "nbconvert_exporter": "python",
   "pygments_lexer": "ipython3",
   "version": "3.10.6"
  }
 },
 "nbformat": 4,
 "nbformat_minor": 2
}
